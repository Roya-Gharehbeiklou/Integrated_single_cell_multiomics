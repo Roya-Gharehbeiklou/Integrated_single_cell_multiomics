{
 "cells": [
  {
   "attachments": {},
   "cell_type": "markdown",
   "metadata": {},
   "source": [
    "# Transcription factor comparison SCENIC+ and FigR"
   ]
  },
  {
   "cell_type": "code",
   "execution_count": 2,
   "metadata": {},
   "outputs": [],
   "source": [
    "import pandas as pd"
   ]
  },
  {
   "attachments": {},
   "cell_type": "markdown",
   "metadata": {},
   "source": [
    "This document contains the transcription factor (TF) comparison between FigR and SCENIC+ human and mouse. Since SCENIC+ also uses another species, this will be also added in a newer version.\n",
    "\n",
    "<mark>Uncertainties/questions are highlighted in this color</mark>"
   ]
  },
  {
   "attachments": {},
   "cell_type": "markdown",
   "metadata": {},
   "source": [
    "## FigR data\n",
    "\n",
    "Data is freely accesible using this link:\n",
    "https://github.com/buenrostrolab/FigR/tree/master/data\n",
    "\n",
    "For both human and mouse, the `.rds` files are available containing the position frequency matrices (PFMs) of the TFs:\n",
    "\n",
    "`.txt` files are generated in R using the following code:\n",
    "\n",
    "```{r}\n",
    "library(dplyr)\n",
    "human_TFs <- readRDS('cisBP_human_pfms_2021.rds')\n",
    "mouse_TFs <- readRDS('cisBP_mouse_pfms_2021.rds')\n",
    "\n",
    "# Write TFs to file for comparison in Python\n",
    "human_TFs_names <- toupper(names(human_TFs))\n",
    "mouse_TFs_names <- toupper(names(mouse_TFs))\n",
    "length(human_TFs_names)\n",
    "length(mouse_TFs_names)\n",
    "writeLines(unlist(lapply(human_TFs_names, paste, collapse=\"\\n\")), \"motifs/FigR/human_TFs.txt\", )\n",
    "writeLines(unlist(lapply(mouse_TFs_names, paste, collapse=\"\\n\")), \"motifs/FigR/mouse_TFs.txt\", )\n",
    "```\n",
    "\n",
    "Human file: &nbsp;`human_TFs.txt` <br>\n",
    "Mouse file: &nbsp;`mouse_TFs.txt`"
   ]
  },
  {
   "attachments": {},
   "cell_type": "markdown",
   "metadata": {},
   "source": [
    "<mark>There were also `.RData` files available, not sure if I needed to do anything with those files yet. </mark>"
   ]
  },
  {
   "attachments": {},
   "cell_type": "markdown",
   "metadata": {},
   "source": [
    "## SCENIC+ data\n",
    "\n",
    "Motif data of SCENIC+ is collected for the following database: https://resources.aertslab.org/cistarget/motif2tf/\n",
    "\n",
    "Files are in `.tbl` format.\n",
    "\n",
    "Human motif file: &nbsp;`motifs-v10nr_clust-nr.hgnc-m0.001-o0.0.tbl` <br>\n",
    "Mouse motif file: &nbsp;`motifs-v10nr_clust-nr.mgi-m0.001-o0.0.tbl`\n",
    "\n",
    "Next lists with TF's of are downloaded from the Github page: https://github.com/aertslab/scenicplus/tree/main/resources\n",
    "\n",
    "Human TFs list: &nbsp;`allTFs_hg38.txt`<br>\n",
    "Mouse TFs list: &nbsp;`allTFs_mm.txt` \n",
    "\n",
    "<mark>Should I also make a comparsison with the fruit fly data?</mark>"
   ]
  },
  {
   "attachments": {},
   "cell_type": "markdown",
   "metadata": {},
   "source": [
    "## Parsing the data"
   ]
  },
  {
   "attachments": {},
   "cell_type": "markdown",
   "metadata": {},
   "source": [
    "This section is based on the following notebook from pySCENIC: https://github.com/aertslab/pySCENIC/blob/master/notebooks/pySCENIC%20-%20List%20of%20Transcription%20Factors.ipynb\n",
    "\n",
    "Below an example of how pySCENIC fetched the TFs using the motif files"
   ]
  },
  {
   "cell_type": "code",
   "execution_count": 3,
   "metadata": {},
   "outputs": [
    {
     "name": "stdout",
     "output_type": "stream",
     "text": [
      "1605\n"
     ]
    }
   ],
   "source": [
    "import warnings; warnings.simplefilter('ignore')\n",
    "\n",
    "# Loading human motifs file\n",
    "motifs_human = pd.read_csv('motifs/scenic_plus/motifs-v10nr_clust-nr.hgnc-m0.001-o0.0.tbl', sep='\\t')\n",
    "# Get unique gene names\n",
    "hs_tfs = motifs_human.gene_name.unique()\n",
    "# Read TFs human\n",
    "with open('motifs/scenic_plus/allTFs_hg38.txt', 'wt') as f:\n",
    "    f.write('\\n'.join(hs_tfs) + '\\n')\n",
    "print(len(hs_tfs))"
   ]
  },
  {
   "attachments": {},
   "cell_type": "markdown",
   "metadata": {},
   "source": [
    "The currated list of human TFs from Lambert et al (PMID:29425488) is fetched from here: http://humantfs.ccbr.utoronto.ca/download.php"
   ]
  },
  {
   "cell_type": "code",
   "execution_count": 4,
   "metadata": {},
   "outputs": [
    {
     "data": {
      "text/plain": [
       "1639"
      ]
     },
     "execution_count": 4,
     "metadata": {},
     "output_type": "execute_result"
    }
   ],
   "source": [
    "with open('motifs/scenic_plus/TF_names_v_1.01.txt', 'rt') as f:\n",
    "    hs_curated_tfs = list(map(lambda s: s.strip(), f.readlines()))\n",
    "len(hs_curated_tfs)"
   ]
  },
  {
   "attachments": {},
   "cell_type": "markdown",
   "metadata": {},
   "source": [
    "Overlapping TFs with the Lambert et. al. TFs"
   ]
  },
  {
   "cell_type": "code",
   "execution_count": 5,
   "metadata": {},
   "outputs": [
    {
     "data": {
      "text/plain": [
       "1428"
      ]
     },
     "execution_count": 5,
     "metadata": {},
     "output_type": "execute_result"
    }
   ],
   "source": [
    "hs_curated_tfs_overlap = list(set(hs_tfs).intersection(hs_curated_tfs))\n",
    "len(hs_curated_tfs_overlap)"
   ]
  },
  {
   "attachments": {},
   "cell_type": "markdown",
   "metadata": {},
   "source": [
    "## Comparsison overlap "
   ]
  },
  {
   "attachments": {},
   "cell_type": "markdown",
   "metadata": {},
   "source": [
    "## Load TFs FigR and SCENIC+"
   ]
  },
  {
   "cell_type": "code",
   "execution_count": 6,
   "metadata": {},
   "outputs": [],
   "source": [
    "mouse_tfs_FigR = pd.read_csv('motifs/FigR/mouse_TFs.txt', header=None)\n",
    "mouse_tfs_FigR = [x.upper() for x in mouse_tfs_FigR[0].to_list()]\n",
    "\n",
    "human_tfs_FigR = pd.read_csv('motifs/FigR/human_TFs.txt', header=None)\n",
    "human_tfs_FigR = human_tfs_FigR[0].to_list()\n",
    "mouse_tfs_scenic_plus = pd.read_csv('motifs/scenic_plus/allTFs_mm.txt', header=None)\n",
    "mouse_tfs_scenic_plus = [x.upper() for x in mouse_tfs_scenic_plus[0].to_list()]\n",
    "\n",
    "human_tfs_scenic_plus = pd.read_csv('motifs/scenic_plus/allTFs_hg38.txt', header=None)\n",
    "human_tfs_scenic_plus = human_tfs_scenic_plus[0].to_list()"
   ]
  },
  {
   "attachments": {},
   "cell_type": "markdown",
   "metadata": {},
   "source": [
    "## Find overlapping TFs per species"
   ]
  },
  {
   "cell_type": "code",
   "execution_count": 7,
   "metadata": {},
   "outputs": [
    {
     "data": {
      "image/png": "[encoded data removed]",
      "text/plain": [
       "<Figure size 640x480 with 1 Axes>"
      ]
     },
     "metadata": {},
     "output_type": "display_data"
    },
    {
     "data": {
      "image/png": "[encoded data removed]",
      "text/plain": [
       "<Figure size 640x480 with 1 Axes>"
      ]
     },
     "metadata": {},
     "output_type": "display_data"
    },
    {
     "data": {
      "image/png": "[encoded data removed]",
      "text/plain": [
       "<Figure size 640x480 with 1 Axes>"
      ]
     },
     "metadata": {},
     "output_type": "display_data"
    },
    {
     "data": {
      "image/png": "[encoded data removed]",
      "text/plain": [
       "<Figure size 640x480 with 1 Axes>"
      ]
     },
     "metadata": {},
     "output_type": "display_data"
    },
    {
     "data": {
      "image/png": "[encoded data removed]",
      "text/plain": [
       "<Figure size 640x480 with 1 Axes>"
      ]
     },
     "metadata": {},
     "output_type": "display_data"
    }
   ],
   "source": [
    "import matplotlib.pyplot as plt\n",
    "from matplotlib_venn import venn2_unweighted, venn3_unweighted\n",
    "\n",
    "venn2_unweighted([set(mouse_tfs_FigR), set(mouse_tfs_scenic_plus)],\n",
    "                 set_colors=(\"#5baded\", \"#e98477\", \"#eaf8f7\"),\n",
    "                 set_labels=(\"FigR\", \"SCENIC+\"))\n",
    "plt.title(\"Mouse TF comparison\")\n",
    "plt.show()\n",
    "venn3_unweighted([set(human_tfs_FigR), set(human_tfs_scenic_plus), set(hs_curated_tfs)],\n",
    "                 set_labels=(\"FigR\", \"SCENIC+\", \"Curated\"))\n",
    "plt.title(\"Human TF comparison\")\n",
    "plt.show()\n",
    "\n",
    "venn2_unweighted([set(mouse_tfs_FigR + human_tfs_FigR), set(mouse_tfs_scenic_plus + human_tfs_scenic_plus)],\n",
    "                 set_labels=(\"FigR\", \"SCENIC+\"))\n",
    "plt.title(\"All TFs human and mouse\")\n",
    "plt.show()\n",
    "\n",
    "venn2_unweighted([set(human_tfs_FigR), set(mouse_tfs_FigR)],\n",
    "                 set_labels=(\"Human\", \"Mouse\"))\n",
    "plt.title(\"FigR TFs mouse vs. human\")\n",
    "plt.show()\n",
    "\n",
    "venn2_unweighted([set(human_tfs_scenic_plus), set(mouse_tfs_scenic_plus)],\n",
    "                 set_labels=(\"Human\", \"Mouse\"))\n",
    "plt.title(\"SCENIC+ TFs mouse vs. human\")\n",
    "plt.show()"
   ]
  },
  {
   "attachments": {},
   "cell_type": "markdown",
   "metadata": {},
   "source": [
    "## To do/questions\n",
    "\n",
    "- SCENIC(+) and FigR compare each other in both articles. Find identify differences there. \n",
    "- Find more information about motifs?\n",
    "- Further analysis or continue for now?"
   ]
  },
  {
   "attachments": {},
   "cell_type": "markdown",
   "metadata": {},
   "source": [
    "## Motif comparison FigR and SCENIC+\n",
    "\n",
    "Motifs are downloaded from cis-bp database. The paper mentions that the motifs with the highest binding score are selected for. Below we find the highest scoring motifs."
   ]
  },
  {
   "cell_type": "code",
   "execution_count": 8,
   "metadata": {},
   "outputs": [
    {
     "name": "stdout",
     "output_type": "stream",
     "text": [
      "Human unique TFs in motif database: 1639\n",
      "Human unique TFs base on TF list repo: 1123\n",
      "\n",
      "Moues unique TFs in motif database: 1513\n"
     ]
    }
   ],
   "source": [
    "human_motifs_figr = pd.read_csv('motifs/FigR/TF_Information.txt', sep='\\t')\n",
    "print('Human unique TFs in motif database:',len(human_motifs_figr['TF_Name'].unique()))\n",
    "\n",
    "human_motifs_figr = human_motifs_figr[human_motifs_figr['TF_Name'].isin(human_tfs_FigR)]\n",
    "print('Human unique TFs base on TF list repo:', len(human_motifs_figr['TF_Name'].unique()))\n",
    "\n",
    "mouse_motifs_figr = pd.read_csv('motifs/FigR/Mouse/TF_Information.txt', sep='\\t')\n",
    "print('\\nMoues unique TFs in motif database:',len(mouse_motifs_figr['TF_Name'].unique()))\n",
    "\n",
    "#mouse_motifs_figr = mouse_motifs_figr[mouse_motifs_figr['TF_Name'].isin(mouse_tfs_FigR)]\n",
    "#print('Mouse unique TFs base on TF list repo:', len(mouse_motifs_figr['TF_Name'].unique()))\n",
    "#mouse_motifs_figr"
   ]
  },
  {
   "cell_type": "code",
   "execution_count": 9,
   "metadata": {},
   "outputs": [
    {
     "data": {
      "text/html": [
       "<div>\n",
       "<style scoped>\n",
       "    .dataframe tbody tr th:only-of-type {\n",
       "        vertical-align: middle;\n",
       "    }\n",
       "\n",
       "    .dataframe tbody tr th {\n",
       "        vertical-align: top;\n",
       "    }\n",
       "\n",
       "    .dataframe thead th {\n",
       "        text-align: right;\n",
       "    }\n",
       "</style>\n",
       "<table border=\"1\" class=\"dataframe\">\n",
       "  <thead>\n",
       "    <tr style=\"text-align: right;\">\n",
       "      <th></th>\n",
       "      <th>TF_ID</th>\n",
       "      <th>Family_ID</th>\n",
       "      <th>TSource_ID</th>\n",
       "      <th>Motif_ID</th>\n",
       "      <th>MSource_ID</th>\n",
       "      <th>DBID</th>\n",
       "      <th>TF_Name</th>\n",
       "      <th>TF_Species</th>\n",
       "      <th>TF_Status</th>\n",
       "      <th>Family_Name</th>\n",
       "      <th>...</th>\n",
       "      <th>MSource_Year</th>\n",
       "      <th>PMID</th>\n",
       "      <th>MSource_Version</th>\n",
       "      <th>SR_Model</th>\n",
       "      <th>SR_NoThreshold</th>\n",
       "      <th>TfSource_Name</th>\n",
       "      <th>TfSource_URL</th>\n",
       "      <th>TfSource_Year</th>\n",
       "      <th>TfSource_Month</th>\n",
       "      <th>TfSource_Day</th>\n",
       "    </tr>\n",
       "  </thead>\n",
       "  <tbody>\n",
       "    <tr>\n",
       "      <th>0</th>\n",
       "      <td>T010906_2.00</td>\n",
       "      <td>F024_2.00</td>\n",
       "      <td>TS12_2.00</td>\n",
       "      <td>M00111_2.00</td>\n",
       "      <td>MS02_2.00</td>\n",
       "      <td>ENSMUSG00000021359</td>\n",
       "      <td>Tfap2a</td>\n",
       "      <td>Mus_musculus</td>\n",
       "      <td>D</td>\n",
       "      <td>AP-2</td>\n",
       "      <td>...</td>\n",
       "      <td>2009</td>\n",
       "      <td>19443739</td>\n",
       "      <td>NaN</td>\n",
       "      <td>SequenceIdentity</td>\n",
       "      <td>True</td>\n",
       "      <td>Ensembl</td>\n",
       "      <td>http://www.ensembl.org/</td>\n",
       "      <td>2018</td>\n",
       "      <td>Dec</td>\n",
       "      <td>8</td>\n",
       "    </tr>\n",
       "    <tr>\n",
       "      <th>1</th>\n",
       "      <td>T010906_2.00</td>\n",
       "      <td>F024_2.00</td>\n",
       "      <td>TS12_2.00</td>\n",
       "      <td>M02768_2.00</td>\n",
       "      <td>MS33_2.00</td>\n",
       "      <td>ENSMUSG00000021359</td>\n",
       "      <td>Tfap2a</td>\n",
       "      <td>Mus_musculus</td>\n",
       "      <td>D</td>\n",
       "      <td>AP-2</td>\n",
       "      <td>...</td>\n",
       "      <td>2013</td>\n",
       "      <td>23332764</td>\n",
       "      <td>January 2013</td>\n",
       "      <td>SequenceIdentity</td>\n",
       "      <td>True</td>\n",
       "      <td>Ensembl</td>\n",
       "      <td>http://www.ensembl.org/</td>\n",
       "      <td>2018</td>\n",
       "      <td>Dec</td>\n",
       "      <td>8</td>\n",
       "    </tr>\n",
       "    <tr>\n",
       "      <th>2</th>\n",
       "      <td>T010906_2.00</td>\n",
       "      <td>F024_2.00</td>\n",
       "      <td>TS12_2.00</td>\n",
       "      <td>M02769_2.00</td>\n",
       "      <td>MS33_2.00</td>\n",
       "      <td>ENSMUSG00000021359</td>\n",
       "      <td>Tfap2a</td>\n",
       "      <td>Mus_musculus</td>\n",
       "      <td>D</td>\n",
       "      <td>AP-2</td>\n",
       "      <td>...</td>\n",
       "      <td>2013</td>\n",
       "      <td>23332764</td>\n",
       "      <td>January 2013</td>\n",
       "      <td>SequenceIdentity</td>\n",
       "      <td>True</td>\n",
       "      <td>Ensembl</td>\n",
       "      <td>http://www.ensembl.org/</td>\n",
       "      <td>2018</td>\n",
       "      <td>Dec</td>\n",
       "      <td>8</td>\n",
       "    </tr>\n",
       "    <tr>\n",
       "      <th>3</th>\n",
       "      <td>T010906_2.00</td>\n",
       "      <td>F024_2.00</td>\n",
       "      <td>TS12_2.00</td>\n",
       "      <td>M02770_2.00</td>\n",
       "      <td>MS33_2.00</td>\n",
       "      <td>ENSMUSG00000021359</td>\n",
       "      <td>Tfap2a</td>\n",
       "      <td>Mus_musculus</td>\n",
       "      <td>D</td>\n",
       "      <td>AP-2</td>\n",
       "      <td>...</td>\n",
       "      <td>2013</td>\n",
       "      <td>23332764</td>\n",
       "      <td>January 2013</td>\n",
       "      <td>SequenceIdentity</td>\n",
       "      <td>True</td>\n",
       "      <td>Ensembl</td>\n",
       "      <td>http://www.ensembl.org/</td>\n",
       "      <td>2018</td>\n",
       "      <td>Dec</td>\n",
       "      <td>8</td>\n",
       "    </tr>\n",
       "    <tr>\n",
       "      <th>4</th>\n",
       "      <td>T010906_2.00</td>\n",
       "      <td>F024_2.00</td>\n",
       "      <td>TS12_2.00</td>\n",
       "      <td>M08704_2.00</td>\n",
       "      <td>MS27_2.00</td>\n",
       "      <td>ENSMUSG00000021359</td>\n",
       "      <td>Tfap2a</td>\n",
       "      <td>Mus_musculus</td>\n",
       "      <td>D</td>\n",
       "      <td>AP-2</td>\n",
       "      <td>...</td>\n",
       "      <td>2013</td>\n",
       "      <td>23175603</td>\n",
       "      <td>July 2014</td>\n",
       "      <td>SequenceIdentity</td>\n",
       "      <td>True</td>\n",
       "      <td>Ensembl</td>\n",
       "      <td>http://www.ensembl.org/</td>\n",
       "      <td>2018</td>\n",
       "      <td>Dec</td>\n",
       "      <td>8</td>\n",
       "    </tr>\n",
       "    <tr>\n",
       "      <th>...</th>\n",
       "      <td>...</td>\n",
       "      <td>...</td>\n",
       "      <td>...</td>\n",
       "      <td>...</td>\n",
       "      <td>...</td>\n",
       "      <td>...</td>\n",
       "      <td>...</td>\n",
       "      <td>...</td>\n",
       "      <td>...</td>\n",
       "      <td>...</td>\n",
       "      <td>...</td>\n",
       "      <td>...</td>\n",
       "      <td>...</td>\n",
       "      <td>...</td>\n",
       "      <td>...</td>\n",
       "      <td>...</td>\n",
       "      <td>...</td>\n",
       "      <td>...</td>\n",
       "      <td>...</td>\n",
       "      <td>...</td>\n",
       "      <td>...</td>\n",
       "    </tr>\n",
       "    <tr>\n",
       "      <th>2073</th>\n",
       "      <td>T350319_2.00</td>\n",
       "      <td>F319_2.00</td>\n",
       "      <td>TS12_2.00</td>\n",
       "      <td>M09448_2.00</td>\n",
       "      <td>MS27_2.00</td>\n",
       "      <td>ENSMUSG00000031885</td>\n",
       "      <td>Cbfb</td>\n",
       "      <td>Mus_musculus</td>\n",
       "      <td>D</td>\n",
       "      <td>Unknown</td>\n",
       "      <td>...</td>\n",
       "      <td>2013</td>\n",
       "      <td>23175603</td>\n",
       "      <td>July 2014</td>\n",
       "      <td>SequenceIdentity</td>\n",
       "      <td>True</td>\n",
       "      <td>Ensembl</td>\n",
       "      <td>http://www.ensembl.org/</td>\n",
       "      <td>2018</td>\n",
       "      <td>Dec</td>\n",
       "      <td>8</td>\n",
       "    </tr>\n",
       "    <tr>\n",
       "      <th>2074</th>\n",
       "      <td>T350320_2.00</td>\n",
       "      <td>F319_2.00</td>\n",
       "      <td>TS12_2.00</td>\n",
       "      <td>M09449_2.00</td>\n",
       "      <td>MS27_2.00</td>\n",
       "      <td>ENSMUSG00000032897</td>\n",
       "      <td>Nfyc</td>\n",
       "      <td>Mus_musculus</td>\n",
       "      <td>D</td>\n",
       "      <td>Unknown</td>\n",
       "      <td>...</td>\n",
       "      <td>2013</td>\n",
       "      <td>23175603</td>\n",
       "      <td>July 2014</td>\n",
       "      <td>SequenceIdentity</td>\n",
       "      <td>True</td>\n",
       "      <td>Ensembl</td>\n",
       "      <td>http://www.ensembl.org/</td>\n",
       "      <td>2018</td>\n",
       "      <td>Dec</td>\n",
       "      <td>8</td>\n",
       "    </tr>\n",
       "    <tr>\n",
       "      <th>2075</th>\n",
       "      <td>T350321_2.00</td>\n",
       "      <td>F319_2.00</td>\n",
       "      <td>TS12_2.00</td>\n",
       "      <td>M02722_2.00</td>\n",
       "      <td>MS31_2.00</td>\n",
       "      <td>ENSMUSG00000046957</td>\n",
       "      <td>Spz1</td>\n",
       "      <td>Mus_musculus</td>\n",
       "      <td>D</td>\n",
       "      <td>Unknown</td>\n",
       "      <td>...</td>\n",
       "      <td>2014</td>\n",
       "      <td>24194598</td>\n",
       "      <td>August 2014</td>\n",
       "      <td>SequenceIdentity</td>\n",
       "      <td>True</td>\n",
       "      <td>Ensembl</td>\n",
       "      <td>http://www.ensembl.org/</td>\n",
       "      <td>2018</td>\n",
       "      <td>Dec</td>\n",
       "      <td>8</td>\n",
       "    </tr>\n",
       "    <tr>\n",
       "      <th>2076</th>\n",
       "      <td>T350322_2.00</td>\n",
       "      <td>F319_2.00</td>\n",
       "      <td>TS12_2.00</td>\n",
       "      <td>M11440_2.00</td>\n",
       "      <td>MS59_2.00</td>\n",
       "      <td>ENSMUSG00000053111</td>\n",
       "      <td>Fank1</td>\n",
       "      <td>Mus_musculus</td>\n",
       "      <td>D</td>\n",
       "      <td>Unknown</td>\n",
       "      <td>...</td>\n",
       "      <td>2006</td>\n",
       "      <td>16381825</td>\n",
       "      <td>7.0</td>\n",
       "      <td>SequenceIdentity</td>\n",
       "      <td>True</td>\n",
       "      <td>Ensembl</td>\n",
       "      <td>http://www.ensembl.org/</td>\n",
       "      <td>2018</td>\n",
       "      <td>Dec</td>\n",
       "      <td>8</td>\n",
       "    </tr>\n",
       "    <tr>\n",
       "      <th>2077</th>\n",
       "      <td>T350323_2.00</td>\n",
       "      <td>F319_2.00</td>\n",
       "      <td>TS12_2.00</td>\n",
       "      <td>M09450_2.00</td>\n",
       "      <td>MS27_2.00</td>\n",
       "      <td>ENSMUSG00000058440</td>\n",
       "      <td>Nrf1</td>\n",
       "      <td>Mus_musculus</td>\n",
       "      <td>D</td>\n",
       "      <td>Unknown</td>\n",
       "      <td>...</td>\n",
       "      <td>2013</td>\n",
       "      <td>23175603</td>\n",
       "      <td>July 2014</td>\n",
       "      <td>SequenceIdentity</td>\n",
       "      <td>True</td>\n",
       "      <td>Ensembl</td>\n",
       "      <td>http://www.ensembl.org/</td>\n",
       "      <td>2018</td>\n",
       "      <td>Dec</td>\n",
       "      <td>8</td>\n",
       "    </tr>\n",
       "  </tbody>\n",
       "</table>\n",
       "<p>2078 rows × 28 columns</p>\n",
       "</div>"
      ],
      "text/plain": [
       "             TF_ID  Family_ID TSource_ID     Motif_ID MSource_ID  \\\n",
       "0     T010906_2.00  F024_2.00  TS12_2.00  M00111_2.00  MS02_2.00   \n",
       "1     T010906_2.00  F024_2.00  TS12_2.00  M02768_2.00  MS33_2.00   \n",
       "2     T010906_2.00  F024_2.00  TS12_2.00  M02769_2.00  MS33_2.00   \n",
       "3     T010906_2.00  F024_2.00  TS12_2.00  M02770_2.00  MS33_2.00   \n",
       "4     T010906_2.00  F024_2.00  TS12_2.00  M08704_2.00  MS27_2.00   \n",
       "...            ...        ...        ...          ...        ...   \n",
       "2073  T350319_2.00  F319_2.00  TS12_2.00  M09448_2.00  MS27_2.00   \n",
       "2074  T350320_2.00  F319_2.00  TS12_2.00  M09449_2.00  MS27_2.00   \n",
       "2075  T350321_2.00  F319_2.00  TS12_2.00  M02722_2.00  MS31_2.00   \n",
       "2076  T350322_2.00  F319_2.00  TS12_2.00  M11440_2.00  MS59_2.00   \n",
       "2077  T350323_2.00  F319_2.00  TS12_2.00  M09450_2.00  MS27_2.00   \n",
       "\n",
       "                    DBID TF_Name    TF_Species TF_Status Family_Name  ...  \\\n",
       "0     ENSMUSG00000021359  Tfap2a  Mus_musculus         D        AP-2  ...   \n",
       "1     ENSMUSG00000021359  Tfap2a  Mus_musculus         D        AP-2  ...   \n",
       "2     ENSMUSG00000021359  Tfap2a  Mus_musculus         D        AP-2  ...   \n",
       "3     ENSMUSG00000021359  Tfap2a  Mus_musculus         D        AP-2  ...   \n",
       "4     ENSMUSG00000021359  Tfap2a  Mus_musculus         D        AP-2  ...   \n",
       "...                  ...     ...           ...       ...         ...  ...   \n",
       "2073  ENSMUSG00000031885    Cbfb  Mus_musculus         D     Unknown  ...   \n",
       "2074  ENSMUSG00000032897    Nfyc  Mus_musculus         D     Unknown  ...   \n",
       "2075  ENSMUSG00000046957    Spz1  Mus_musculus         D     Unknown  ...   \n",
       "2076  ENSMUSG00000053111   Fank1  Mus_musculus         D     Unknown  ...   \n",
       "2077  ENSMUSG00000058440    Nrf1  Mus_musculus         D     Unknown  ...   \n",
       "\n",
       "     MSource_Year      PMID  MSource_Version          SR_Model SR_NoThreshold  \\\n",
       "0            2009  19443739              NaN  SequenceIdentity           True   \n",
       "1            2013  23332764     January 2013  SequenceIdentity           True   \n",
       "2            2013  23332764     January 2013  SequenceIdentity           True   \n",
       "3            2013  23332764     January 2013  SequenceIdentity           True   \n",
       "4            2013  23175603        July 2014  SequenceIdentity           True   \n",
       "...           ...       ...              ...               ...            ...   \n",
       "2073         2013  23175603        July 2014  SequenceIdentity           True   \n",
       "2074         2013  23175603        July 2014  SequenceIdentity           True   \n",
       "2075         2014  24194598      August 2014  SequenceIdentity           True   \n",
       "2076         2006  16381825              7.0  SequenceIdentity           True   \n",
       "2077         2013  23175603        July 2014  SequenceIdentity           True   \n",
       "\n",
       "     TfSource_Name             TfSource_URL TfSource_Year TfSource_Month  \\\n",
       "0          Ensembl  http://www.ensembl.org/          2018            Dec   \n",
       "1          Ensembl  http://www.ensembl.org/          2018            Dec   \n",
       "2          Ensembl  http://www.ensembl.org/          2018            Dec   \n",
       "3          Ensembl  http://www.ensembl.org/          2018            Dec   \n",
       "4          Ensembl  http://www.ensembl.org/          2018            Dec   \n",
       "...            ...                      ...           ...            ...   \n",
       "2073       Ensembl  http://www.ensembl.org/          2018            Dec   \n",
       "2074       Ensembl  http://www.ensembl.org/          2018            Dec   \n",
       "2075       Ensembl  http://www.ensembl.org/          2018            Dec   \n",
       "2076       Ensembl  http://www.ensembl.org/          2018            Dec   \n",
       "2077       Ensembl  http://www.ensembl.org/          2018            Dec   \n",
       "\n",
       "     TfSource_Day  \n",
       "0               8  \n",
       "1               8  \n",
       "2               8  \n",
       "3               8  \n",
       "4               8  \n",
       "...           ...  \n",
       "2073            8  \n",
       "2074            8  \n",
       "2075            8  \n",
       "2076            8  \n",
       "2077            8  \n",
       "\n",
       "[2078 rows x 28 columns]"
      ]
     },
     "execution_count": 9,
     "metadata": {},
     "output_type": "execute_result"
    }
   ],
   "source": [
    "mouse_motifs_figr"
   ]
  },
  {
   "cell_type": "code",
   "execution_count": 10,
   "metadata": {},
   "outputs": [],
   "source": [
    "human_motifs_scenic = pd.read_csv('motifs/scenic_plus/motifs-v10nr_clust-nr.hgnc-m0.001-o0.0.tbl', sep='\\t')\n",
    "mouse_motifs_scenic = pd.read_csv('motifs/scenic_plus/motifs-v10nr_clust-nr.mgi-m0.001-o0.0.tbl', sep='\\t')"
   ]
  },
  {
   "cell_type": "code",
   "execution_count": 11,
   "metadata": {},
   "outputs": [],
   "source": [
    "figr_motif_families = human_motifs_figr.Family_Name.unique()"
   ]
  },
  {
   "cell_type": "code",
   "execution_count": 12,
   "metadata": {},
   "outputs": [],
   "source": [
    "\n",
    "scenic_plus_motif_families = human_motifs_scenic['description'].str.extract(r'family: (.*?)DBDs').dropna()[0].tolist()"
   ]
  },
  {
   "cell_type": "code",
   "execution_count": 13,
   "metadata": {},
   "outputs": [],
   "source": [
    "scenic_plus_motif_families = [i.strip(' ') for i in scenic_plus_motif_families]"
   ]
  },
  {
   "cell_type": "code",
   "execution_count": 14,
   "metadata": {},
   "outputs": [],
   "source": [
    "figr_motif_families = set(figr_motif_families)\n",
    "scenic_plus_motif_families = set(scenic_plus_motif_families)\n",
    "\n",
    "overlap_fam = figr_motif_families.intersection(scenic_plus_motif_families)\n"
   ]
  },
  {
   "cell_type": "code",
   "execution_count": 15,
   "metadata": {},
   "outputs": [
    {
     "name": "stdout",
     "output_type": "stream",
     "text": [
      "{'CUT,Homeodomain', 'Myb/SANT', 'Pipsqueak', 'TBP', 'CCCH ZF', 'GATA', 'Paired box', 'bZIP', 'bHLH', 'Homeodomain', 'HSF', 'C2HC ZF', 'CxxC', 'Ndt80/PhoG', 'Nuclear receptor', 'Prospero', 'CSL', 'MADF', 'DM', 'Brinker', 'Unknown', 'GCM', 'bHLH,T-box', 'THAP finger', 'SMAD', 'BED ZF', 'IRF', 'T-box', 'TEA', 'p53', 'AP-2', 'AT hook', 'ARID/BRIGHT', 'EBF1', 'RFX', 'Forkhead', 'MBD', 'C2H2 ZF', 'Homeodomain,Paired box', 'SAND', 'CENPB', 'Ets', 'STAT', 'C2H2 ZF,MADF', 'CSD', 'C2H2 ZF,Homeodomain', 'Homeodomain,POU', 'Sox', 'E2F', 'Runt', 'TCR/CxC', 'Grainyhead', 'CBF/NF-Y', 'MADS box', 'Rel', 'bZIP,C2H2 ZF'}\n",
      "{'CUT,Homeodomain', 'Myb/SANT', 'POU', 'Pipsqueak', 'TBP', 'GATA', 'Paired box', 'bZIP', 'bHLH', 'Homeodomain', 'HSF', 'CxxC', 'Nuclear receptor', 'DM', 'Unknown', 'GCM', 'THAP finger', 'SMAD', 'IRF', 'T-box', 'p53', 'AP-2', 'AT hook', 'ARID/BRIGHT', 'RFX', 'SAND', 'Forkhead', 'STAT', 'Homeodomain,Paired box', 'C2H2 ZF', 'Ets', 'CENPB', 'Homeodomain,POU', 'Sox', 'C2H2 ZF,Homeodomain', 'E2F', 'Grainyhead', 'MADS box', 'Rel'}\n"
     ]
    }
   ],
   "source": [
    "print(figr_motif_families)\n",
    "print(scenic_plus_motif_families)\n"
   ]
  },
  {
   "cell_type": "code",
   "execution_count": 16,
   "metadata": {},
   "outputs": [
    {
     "name": "stdout",
     "output_type": "stream",
     "text": [
      "['AP-2', 'ARID/BRIGHT', 'AT hook', 'C2H2 ZF', 'C2H2 ZF,Homeodomain', 'CENPB', 'CUT,Homeodomain', 'CxxC', 'DM', 'E2F', 'Ets', 'Forkhead', 'GATA', 'GCM', 'Grainyhead', 'HSF', 'Homeodomain', 'Homeodomain,POU', 'Homeodomain,Paired box', 'IRF', 'MADS box', 'Myb/SANT', 'Nuclear receptor', 'Paired box', 'Pipsqueak', 'RFX', 'Rel', 'SAND', 'SMAD', 'STAT', 'Sox', 'T-box', 'TBP', 'THAP finger', 'Unknown', 'bHLH', 'bZIP', 'p53']\n"
     ]
    },
    {
     "data": {
      "image/png": "[encoded data removed]",
      "text/plain": [
       "<Figure size 640x480 with 1 Axes>"
      ]
     },
     "metadata": {},
     "output_type": "display_data"
    }
   ],
   "source": [
    "venn = venn2_unweighted([figr_motif_families, scenic_plus_motif_families], ('FigR', 'Scenic+'))\n",
    "\n",
    "venn.get_label_by_id('100').set_text('\\n'.join(figr_motif_families-scenic_plus_motif_families))\n",
    "venn.get_label_by_id('010').set_text('\\n'.join(scenic_plus_motif_families-figr_motif_families))\n",
    "print(sorted(overlap_fam))\n",
    "plt.show()\n"
   ]
  },
  {
   "cell_type": "code",
   "execution_count": null,
   "metadata": {},
   "outputs": [],
   "source": [
    "sorted"
   ]
  },
  {
   "attachments": {},
   "cell_type": "markdown",
   "metadata": {},
   "source": [
    "## Evidence TF collection "
   ]
  },
  {
   "attachments": {},
   "cell_type": "markdown",
   "metadata": {},
   "source": [
    "For SCENIC+ motifs, 1553, 1357 and 467 TFs are collected with direct evidence for human, mouse and fly respectively."
   ]
  },
  {
   "cell_type": "code",
   "execution_count": 17,
   "metadata": {},
   "outputs": [
    {
     "data": {
      "text/html": [
       "<div>\n",
       "<style scoped>\n",
       "    .dataframe tbody tr th:only-of-type {\n",
       "        vertical-align: middle;\n",
       "    }\n",
       "\n",
       "    .dataframe tbody tr th {\n",
       "        vertical-align: top;\n",
       "    }\n",
       "\n",
       "    .dataframe thead th {\n",
       "        text-align: right;\n",
       "    }\n",
       "</style>\n",
       "<table border=\"1\" class=\"dataframe\">\n",
       "  <thead>\n",
       "    <tr style=\"text-align: right;\">\n",
       "      <th></th>\n",
       "      <th>TF_ID</th>\n",
       "      <th>Family_ID</th>\n",
       "      <th>TSource_ID</th>\n",
       "      <th>Motif_ID</th>\n",
       "      <th>MSource_ID</th>\n",
       "      <th>DBID</th>\n",
       "      <th>TF_Name</th>\n",
       "      <th>TF_Species</th>\n",
       "      <th>Family_Name</th>\n",
       "      <th>DBDs</th>\n",
       "      <th>...</th>\n",
       "      <th>MSource_Year</th>\n",
       "      <th>PMID</th>\n",
       "      <th>MSource_Version</th>\n",
       "      <th>SR_Model</th>\n",
       "      <th>SR_NoThreshold</th>\n",
       "      <th>TfSource_Name</th>\n",
       "      <th>TfSource_URL</th>\n",
       "      <th>TfSource_Year</th>\n",
       "      <th>TfSource_Month</th>\n",
       "      <th>TfSource_Day</th>\n",
       "    </tr>\n",
       "    <tr>\n",
       "      <th>TF_Status</th>\n",
       "      <th></th>\n",
       "      <th></th>\n",
       "      <th></th>\n",
       "      <th></th>\n",
       "      <th></th>\n",
       "      <th></th>\n",
       "      <th></th>\n",
       "      <th></th>\n",
       "      <th></th>\n",
       "      <th></th>\n",
       "      <th></th>\n",
       "      <th></th>\n",
       "      <th></th>\n",
       "      <th></th>\n",
       "      <th></th>\n",
       "      <th></th>\n",
       "      <th></th>\n",
       "      <th></th>\n",
       "      <th></th>\n",
       "      <th></th>\n",
       "      <th></th>\n",
       "    </tr>\n",
       "  </thead>\n",
       "  <tbody>\n",
       "    <tr>\n",
       "      <th>D</th>\n",
       "      <td>5185</td>\n",
       "      <td>5185</td>\n",
       "      <td>5185</td>\n",
       "      <td>5185</td>\n",
       "      <td>5185</td>\n",
       "      <td>5185</td>\n",
       "      <td>5185</td>\n",
       "      <td>5185</td>\n",
       "      <td>5185</td>\n",
       "      <td>5185</td>\n",
       "      <td>...</td>\n",
       "      <td>5185</td>\n",
       "      <td>5170</td>\n",
       "      <td>4860</td>\n",
       "      <td>5185</td>\n",
       "      <td>5185</td>\n",
       "      <td>5185</td>\n",
       "      <td>5185</td>\n",
       "      <td>5185</td>\n",
       "      <td>5185</td>\n",
       "      <td>5185</td>\n",
       "    </tr>\n",
       "    <tr>\n",
       "      <th>I</th>\n",
       "      <td>89</td>\n",
       "      <td>89</td>\n",
       "      <td>89</td>\n",
       "      <td>89</td>\n",
       "      <td>89</td>\n",
       "      <td>89</td>\n",
       "      <td>89</td>\n",
       "      <td>89</td>\n",
       "      <td>89</td>\n",
       "      <td>89</td>\n",
       "      <td>...</td>\n",
       "      <td>89</td>\n",
       "      <td>82</td>\n",
       "      <td>35</td>\n",
       "      <td>89</td>\n",
       "      <td>89</td>\n",
       "      <td>89</td>\n",
       "      <td>89</td>\n",
       "      <td>89</td>\n",
       "      <td>89</td>\n",
       "      <td>89</td>\n",
       "    </tr>\n",
       "  </tbody>\n",
       "</table>\n",
       "<p>2 rows × 27 columns</p>\n",
       "</div>"
      ],
      "text/plain": [
       "           TF_ID  Family_ID  TSource_ID  Motif_ID  MSource_ID  DBID  TF_Name  \\\n",
       "TF_Status                                                                      \n",
       "D           5185       5185        5185      5185        5185  5185     5185   \n",
       "I             89         89          89        89          89    89       89   \n",
       "\n",
       "           TF_Species  Family_Name  DBDs  ...  MSource_Year  PMID  \\\n",
       "TF_Status                                 ...                       \n",
       "D                5185         5185  5185  ...          5185  5170   \n",
       "I                  89           89    89  ...            89    82   \n",
       "\n",
       "           MSource_Version  SR_Model  SR_NoThreshold  TfSource_Name  \\\n",
       "TF_Status                                                             \n",
       "D                     4860      5185            5185           5185   \n",
       "I                       35        89              89             89   \n",
       "\n",
       "           TfSource_URL  TfSource_Year  TfSource_Month  TfSource_Day  \n",
       "TF_Status                                                             \n",
       "D                  5185           5185            5185          5185  \n",
       "I                    89             89              89            89  \n",
       "\n",
       "[2 rows x 27 columns]"
      ]
     },
     "execution_count": 17,
     "metadata": {},
     "output_type": "execute_result"
    }
   ],
   "source": [
    "human_motifs_figr.groupby('TF_Status').count()"
   ]
  },
  {
   "cell_type": "code",
   "execution_count": 18,
   "metadata": {},
   "outputs": [
    {
     "data": {
      "text/html": [
       "<div>\n",
       "<style scoped>\n",
       "    .dataframe tbody tr th:only-of-type {\n",
       "        vertical-align: middle;\n",
       "    }\n",
       "\n",
       "    .dataframe tbody tr th {\n",
       "        vertical-align: top;\n",
       "    }\n",
       "\n",
       "    .dataframe thead th {\n",
       "        text-align: right;\n",
       "    }\n",
       "</style>\n",
       "<table border=\"1\" class=\"dataframe\">\n",
       "  <thead>\n",
       "    <tr style=\"text-align: right;\">\n",
       "      <th></th>\n",
       "      <th>TF_ID</th>\n",
       "      <th>Family_ID</th>\n",
       "      <th>TSource_ID</th>\n",
       "      <th>Motif_ID</th>\n",
       "      <th>MSource_ID</th>\n",
       "      <th>DBID</th>\n",
       "      <th>TF_Name</th>\n",
       "      <th>TF_Species</th>\n",
       "      <th>Family_Name</th>\n",
       "      <th>DBDs</th>\n",
       "      <th>...</th>\n",
       "      <th>MSource_Year</th>\n",
       "      <th>PMID</th>\n",
       "      <th>MSource_Version</th>\n",
       "      <th>SR_Model</th>\n",
       "      <th>SR_NoThreshold</th>\n",
       "      <th>TfSource_Name</th>\n",
       "      <th>TfSource_URL</th>\n",
       "      <th>TfSource_Year</th>\n",
       "      <th>TfSource_Month</th>\n",
       "      <th>TfSource_Day</th>\n",
       "    </tr>\n",
       "    <tr>\n",
       "      <th>TF_Status</th>\n",
       "      <th></th>\n",
       "      <th></th>\n",
       "      <th></th>\n",
       "      <th></th>\n",
       "      <th></th>\n",
       "      <th></th>\n",
       "      <th></th>\n",
       "      <th></th>\n",
       "      <th></th>\n",
       "      <th></th>\n",
       "      <th></th>\n",
       "      <th></th>\n",
       "      <th></th>\n",
       "      <th></th>\n",
       "      <th></th>\n",
       "      <th></th>\n",
       "      <th></th>\n",
       "      <th></th>\n",
       "      <th></th>\n",
       "      <th></th>\n",
       "      <th></th>\n",
       "    </tr>\n",
       "  </thead>\n",
       "  <tbody>\n",
       "    <tr>\n",
       "      <th>D</th>\n",
       "      <td>1213</td>\n",
       "      <td>1213</td>\n",
       "      <td>1213</td>\n",
       "      <td>1213</td>\n",
       "      <td>1213</td>\n",
       "      <td>1213</td>\n",
       "      <td>1213</td>\n",
       "      <td>1213</td>\n",
       "      <td>1213</td>\n",
       "      <td>1213</td>\n",
       "      <td>...</td>\n",
       "      <td>1213</td>\n",
       "      <td>1210</td>\n",
       "      <td>706</td>\n",
       "      <td>1213</td>\n",
       "      <td>1213</td>\n",
       "      <td>1213</td>\n",
       "      <td>1213</td>\n",
       "      <td>1213</td>\n",
       "      <td>1213</td>\n",
       "      <td>1213</td>\n",
       "    </tr>\n",
       "    <tr>\n",
       "      <th>I</th>\n",
       "      <td>290</td>\n",
       "      <td>290</td>\n",
       "      <td>290</td>\n",
       "      <td>290</td>\n",
       "      <td>290</td>\n",
       "      <td>290</td>\n",
       "      <td>290</td>\n",
       "      <td>290</td>\n",
       "      <td>290</td>\n",
       "      <td>290</td>\n",
       "      <td>...</td>\n",
       "      <td>290</td>\n",
       "      <td>276</td>\n",
       "      <td>213</td>\n",
       "      <td>290</td>\n",
       "      <td>290</td>\n",
       "      <td>290</td>\n",
       "      <td>290</td>\n",
       "      <td>290</td>\n",
       "      <td>290</td>\n",
       "      <td>290</td>\n",
       "    </tr>\n",
       "    <tr>\n",
       "      <th>N</th>\n",
       "      <td>575</td>\n",
       "      <td>575</td>\n",
       "      <td>575</td>\n",
       "      <td>575</td>\n",
       "      <td>575</td>\n",
       "      <td>575</td>\n",
       "      <td>575</td>\n",
       "      <td>575</td>\n",
       "      <td>575</td>\n",
       "      <td>575</td>\n",
       "      <td>...</td>\n",
       "      <td>575</td>\n",
       "      <td>575</td>\n",
       "      <td>575</td>\n",
       "      <td>575</td>\n",
       "      <td>575</td>\n",
       "      <td>575</td>\n",
       "      <td>575</td>\n",
       "      <td>575</td>\n",
       "      <td>575</td>\n",
       "      <td>575</td>\n",
       "    </tr>\n",
       "  </tbody>\n",
       "</table>\n",
       "<p>3 rows × 27 columns</p>\n",
       "</div>"
      ],
      "text/plain": [
       "           TF_ID  Family_ID  TSource_ID  Motif_ID  MSource_ID  DBID  TF_Name  \\\n",
       "TF_Status                                                                      \n",
       "D           1213       1213        1213      1213        1213  1213     1213   \n",
       "I            290        290         290       290         290   290      290   \n",
       "N            575        575         575       575         575   575      575   \n",
       "\n",
       "           TF_Species  Family_Name  DBDs  ...  MSource_Year  PMID  \\\n",
       "TF_Status                                 ...                       \n",
       "D                1213         1213  1213  ...          1213  1210   \n",
       "I                 290          290   290  ...           290   276   \n",
       "N                 575          575   575  ...           575   575   \n",
       "\n",
       "           MSource_Version  SR_Model  SR_NoThreshold  TfSource_Name  \\\n",
       "TF_Status                                                             \n",
       "D                      706      1213            1213           1213   \n",
       "I                      213       290             290            290   \n",
       "N                      575       575             575            575   \n",
       "\n",
       "           TfSource_URL  TfSource_Year  TfSource_Month  TfSource_Day  \n",
       "TF_Status                                                             \n",
       "D                  1213           1213            1213          1213  \n",
       "I                   290            290             290           290  \n",
       "N                   575            575             575           575  \n",
       "\n",
       "[3 rows x 27 columns]"
      ]
     },
     "execution_count": 18,
     "metadata": {},
     "output_type": "execute_result"
    }
   ],
   "source": [
    "mouse_motifs_figr.groupby('TF_Status').count()"
   ]
  }
 ],
 "metadata": {
  "kernelspec": {
   "display_name": "base",
   "language": "python",
   "name": "python3"
  },
  "language_info": {
   "codemirror_mode": {
    "name": "ipython",
    "version": 3
   },
   "file_extension": ".py",
   "mimetype": "text/x-python",
   "name": "python",
   "nbconvert_exporter": "python",
   "pygments_lexer": "ipython3",
   "version": "3.6.8"
  },
  "orig_nbformat": 4
 },
 "nbformat": 4,
 "nbformat_minor": 2
}
