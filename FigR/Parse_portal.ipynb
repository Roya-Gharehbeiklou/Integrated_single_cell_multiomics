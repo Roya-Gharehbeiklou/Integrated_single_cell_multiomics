{
 "cells": [
  {
   "cell_type": "code",
   "execution_count": 13,
   "metadata": {},
   "outputs": [
    {
     "name": "stdout",
     "output_type": "stream",
     "text": [
      "<KeysViewHDF5 ['meta', 'model']>\n",
      "<KeysViewHDF5 ['index', 'values']>\n",
      "<KeysViewHDF5 ['latent']>\n"
     ]
    }
   ],
   "source": [
    "import h5py\n",
    "\n",
    "# View contents of file\n",
    "filename = 'portal_output/output.h5'\n",
    "h5 = h5py.File(filename, \"r\")\n",
    "print(h5.keys())\n",
    "meta = h5.get('meta').keys()\n",
    "model = h5.get('model').keys()\n",
    "print(meta)\n",
    "print(model)"
   ]
  },
  {
   "cell_type": "code",
   "execution_count": 24,
   "metadata": {},
   "outputs": [],
   "source": [
    "index = h5['meta/index']\n",
    "data = h5['meta/values']\n",
    "latent = h5['model/latent']"
   ]
  },
  {
   "cell_type": "code",
   "execution_count": 55,
   "metadata": {},
   "outputs": [
    {
     "name": "stdout",
     "output_type": "stream",
     "text": [
      "<HDF5 dataset \"index\": shape (19526,), type \"|O\">\n"
     ]
    },
    {
     "data": {
      "text/plain": [
       "b'AAACAGCCAAGGAATC-1'"
      ]
     },
     "execution_count": 55,
     "metadata": {},
     "output_type": "execute_result"
    }
   ],
   "source": [
    "print(index)\n",
    "index[0]"
   ]
  },
  {
   "cell_type": "code",
   "execution_count": 52,
   "metadata": {},
   "outputs": [
    {
     "name": "stdout",
     "output_type": "stream",
     "text": [
      "<HDF5 dataset \"values\": shape (19526, 2), type \"|O\">\n"
     ]
    },
    {
     "data": {
      "text/plain": [
       "array([[b'CD4T', b'rna'],\n",
       "       [b'CD4T', b'rna'],\n",
       "       [b'CD4T', b'rna'],\n",
       "       ...,\n",
       "       [b'NK', b'atac'],\n",
       "       [b'CD4T', b'atac'],\n",
       "       [b'CD8T', b'atac']], dtype=object)"
      ]
     },
     "execution_count": 52,
     "metadata": {},
     "output_type": "execute_result"
    }
   ],
   "source": [
    "print(data)\n",
    "data[()]"
   ]
  },
  {
   "cell_type": "code",
   "execution_count": 44,
   "metadata": {},
   "outputs": [
    {
     "name": "stdout",
     "output_type": "stream",
     "text": [
      "<HDF5 dataset \"latent\": shape (19526, 20), type \"<f4\">\n"
     ]
    },
    {
     "data": {
      "text/plain": [
       "array([-3.5611868 , -2.4523265 ,  2.2445402 ,  0.612055  ,  0.98199856,\n",
       "        1.1607504 ,  0.6143709 , -0.23436433, -0.05163592, -2.2096405 ,\n",
       "        3.5517542 ,  4.082511  , -0.85329276,  2.2188666 ,  0.3901421 ,\n",
       "       -0.51533294,  2.713774  , -1.0771183 ,  2.5554283 ,  1.602689  ],\n",
       "      dtype=float32)"
      ]
     },
     "execution_count": 44,
     "metadata": {},
     "output_type": "execute_result"
    }
   ],
   "source": [
    "print(latent)\n",
    "latent[0]"
   ]
  },
  {
   "cell_type": "code",
   "execution_count": null,
   "metadata": {},
   "outputs": [],
   "source": []
  }
 ],
 "metadata": {
  "kernelspec": {
   "display_name": "base",
   "language": "python",
   "name": "python3"
  },
  "language_info": {
   "codemirror_mode": {
    "name": "ipython",
    "version": 3
   },
   "file_extension": ".py",
   "mimetype": "text/x-python",
   "name": "python",
   "nbconvert_exporter": "python",
   "pygments_lexer": "ipython3",
   "version": "3.9.12"
  },
  "orig_nbformat": 4
 },
 "nbformat": 4,
 "nbformat_minor": 2
}
